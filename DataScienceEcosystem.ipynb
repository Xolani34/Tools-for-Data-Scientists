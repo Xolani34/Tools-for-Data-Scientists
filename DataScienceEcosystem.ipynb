{
 "cells": [
  {
   "cell_type": "markdown",
   "id": "81e303b6-461e-4b43-a865-01d744b7e5b0",
   "metadata": {
    "tags": []
   },
   "source": [
    "# Data Science Tools and Ecosystem "
   ]
  },
  {
   "cell_type": "markdown",
   "id": "79f9e1f4-8175-48dd-9e36-17b3418c3cf5",
   "metadata": {},
   "source": [
    "This notebook summarizes Data Science Tools and Ecosystem"
   ]
  },
  {
   "cell_type": "markdown",
   "id": "5d2248ab-b97b-4ba6-b772-7b48c88461a1",
   "metadata": {},
   "source": [
    "**Objectives**\n",
    "\n",
    "* Libraries most commonly used by Data Scientists\n",
    "* Evaluating arithmetic expression examples\n",
    "* Creating a single column table\n",
    "* Convert minutes to hours\n"
   ]
  },
  {
   "cell_type": "markdown",
   "id": "f4ebadae-2dbd-4afb-84e2-b73d990ee8b6",
   "metadata": {},
   "source": [
    "Some of the popular languages that Data Scientists use are:\n",
    "\n",
    "    1. Python\n",
    "    2. R \n",
    "    3. SQL"
   ]
  },
  {
   "cell_type": "markdown",
   "id": "4ccb115d-dbfa-4537-9d33-dcb90fe1148b",
   "metadata": {},
   "source": [
    "Some of the most common libraries used by Data Scientists include:\n",
    "    \n",
    "    1. Scikit-learn\n",
    "    2. Pandas \n",
    "    3. NumPy"
   ]
  },
  {
   "cell_type": "markdown",
   "id": "e23def0b-8692-4625-9455-4382089cb807",
   "metadata": {},
   "source": [
    "| Data Science Tools |\n",
    "| ------------------ |\n",
    "| Jupyterlab |\n",
    "| VS Code |\n",
    "| GoogleColab |"
   ]
  },
  {
   "cell_type": "markdown",
   "id": "90732649-0f1f-4590-ae7c-39a5163b6ae9",
   "metadata": {},
   "source": [
    "### The following are a few examples of evaluating arithmetic expressions in Python."
   ]
  },
  {
   "cell_type": "code",
   "execution_count": 21,
   "id": "d854fdc1-7522-482f-bf50-e46977f3a5a1",
   "metadata": {},
   "outputs": [
    {
     "data": {
      "text/plain": [
       "17"
      ]
     },
     "execution_count": 21,
     "metadata": {},
     "output_type": "execute_result"
    }
   ],
   "source": [
    "#This expressionevaluates a product of four  numbers plus plus a third   \n",
    "(3*4)+5"
   ]
  },
  {
   "cell_type": "code",
   "execution_count": 25,
   "id": "9abafce7-b35a-49c9-9a39-217418e8edf3",
   "metadata": {},
   "outputs": [
    {
     "data": {
      "text/plain": [
       "3.3333333333333335"
      ]
     },
     "execution_count": 25,
     "metadata": {},
     "output_type": "execute_result"
    }
   ],
   "source": [
    " # This will convert 200 minutes to hours by diving by 60\n",
    "200/60"
   ]
  },
  {
   "cell_type": "markdown",
   "id": "865dd2ef-e1dd-49b9-accd-6dd134db2252",
   "metadata": {},
   "source": [
    "## Author\n",
    "Xolani Dlamini"
   ]
  },
  {
   "cell_type": "code",
   "execution_count": null,
   "id": "5e7f5ca0-9ff8-4edd-913a-9ae1d2ab84fa",
   "metadata": {},
   "outputs": [],
   "source": []
  }
 ],
 "metadata": {
  "kernelspec": {
   "display_name": "anaconda-panel-2023.05-py310",
   "language": "python",
   "name": "conda-env-anaconda-panel-2023.05-py310-py"
  },
  "language_info": {
   "codemirror_mode": {
    "name": "ipython",
    "version": 3
   },
   "file_extension": ".py",
   "mimetype": "text/x-python",
   "name": "python",
   "nbconvert_exporter": "python",
   "pygments_lexer": "ipython3",
   "version": "3.11.5"
  }
 },
 "nbformat": 4,
 "nbformat_minor": 5
}
